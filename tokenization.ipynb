{
  "cells": [
    {
      "cell_type": "code",
      "execution_count": 1,
      "id": "VRvDI_r3M7_p",
      "metadata": {
        "id": "VRvDI_r3M7_p"
      },
      "outputs": [],
      "source": [
        "import re"
      ]
    },
    {
      "cell_type": "code",
      "execution_count": 2,
      "id": "b24b4bc4",
      "metadata": {
        "colab": {
          "base_uri": "https://localhost:8080/",
          "height": 176
        },
        "id": "b24b4bc4",
        "outputId": "36e77013-aa6c-4d37-ca68-e4cbf9b06e7c"
      },
      "outputs": [
        {
          "name": "stdout",
          "output_type": "stream",
          "text": [
            "Gentlemen of the Senate and Gentlemen of the House of Representatives:\n",
            "\n",
            "While with reverence and res\n"
          ]
        }
      ],
      "source": [
        "with open( \"JohnAdams.txt\", \"r\" ) as f:\n",
        "    raw_text = f.read()\n",
        "print(raw_text[:100])"
      ]
    },
    {
      "cell_type": "code",
      "execution_count": 3,
      "id": "26b570f5",
      "metadata": {
        "id": "26b570f5",
        "outputId": "4111c927-8727-487a-e450-e49ea1f55885"
      },
      "outputs": [
        {
          "name": "stdout",
          "output_type": "stream",
          "text": [
            "4564\n"
          ]
        }
      ],
      "source": [
        "tokens = re.split( r'([.?!:())\"\\'“”‘’^]|\\s)', raw_text)\n",
        "tokens = [ item for item in tokens if item.split() ]\n",
        "tokens.extend([\"<|unk|>\", \"<|endoftext|>\"])\n",
        "print( len(tokens) )\n"
      ]
    },
    {
      "cell_type": "code",
      "execution_count": 4,
      "id": "487ff897",
      "metadata": {
        "id": "487ff897",
        "outputId": "a17964fe-646b-47f2-9ce4-89aa2c152fb5"
      },
      "outputs": [
        {
          "name": "stdout",
          "output_type": "stream",
          "text": [
            "873\n"
          ]
        }
      ],
      "source": [
        "tokens = sorted( list( set( tokens ) ) )\n",
        "print( len(tokens) )"
      ]
    },
    {
      "cell_type": "code",
      "execution_count": 5,
      "id": "8bf04503",
      "metadata": {
        "collapsed": true,
        "id": "8bf04503",
        "outputId": "a0d11612-de97-43de-e4f4-ef42adcd625d"
      },
      "outputs": [
        {
          "data": {
            "text/plain": [
              "dict_items([('(', 0), (')', 1), ('.', 2), ('1st', 3), ('25th', 4), ('31st', 5), ('5th', 6), ('7th', 7), (':', 8), ('<|endoftext|>', 9), ('<|unk|>', 10), ('A', 11), ('After', 12), ('American', 13), ('Among', 14), ('An', 15), ('As', 16), ('August', 17), ('Bay', 18), ('Being', 19), ('Between', 20), ('Britain', 21), ('Britannic', 22), ('British', 23), ('But', 24), ('Catholic', 25), ('Congress,', 26), ('Croix', 27), ('Directory', 28), ('Divine', 29), ('During', 30), ('Europe', 31), ('Executive', 32), ('France', 33), ('French', 34), ('From', 35), ('Fundy', 36), ('Gentlemen', 37), ('Government', 38), ('Government,', 39), ('Governments', 40), ('Great', 41), ('He', 42), ('Hills', 43), ('His', 44), ('Hitherto,', 45), ('House', 46), ('I', 47), ('In', 48), ('Indian', 49), ('Indians,', 50), ('It', 51), ('January', 52), ('Legislature', 53), ('Majesty', 54), ('Mississippi', 55), ('Natchez', 56), ('National', 57), ('Navy', 58), ('No', 59), ('October', 60), ('On', 61), ('Passamaquoddy', 62), ('Perhaps', 63), ('Providence', 64), ('Recent', 65), ('Representatives', 66), ('Scoodiac', 67), ('Scoodiac,', 68), ('Senate', 69), ('Southern', 70), ('Spain', 71), ('Spanish', 72), ('St', 73), ('States', 74), ('States,', 75), ('States;', 76), ('Such', 77), ('Supreme', 78), ('That', 79), ('The', 80), ('These', 81), ('They', 82), ('This', 83), ('To', 84), ('Union', 85), ('United', 86), ('Various', 87), ('Walnut', 88), ('We', 89), ('When', 90), ('While', 91), ('You', 92), ('a', 93), ('abandon', 94), ('able', 95), ('abundant', 96), ('accommodation', 97), ('accompanied', 98), ('accomplish', 99), ('accomplished', 100), ('accomplished,', 101), ('acknowledged', 102), ('act', 103), ('acting', 104), ('acts', 105), ('actually', 106), ('add', 107), ('address', 108), ('adheres', 109), ('adjoining', 110), ('adjusted', 111), ('adjustment', 112), ('adopted', 113), ('advantages', 114), ('advert,', 115), ('adverting', 116), ('affected,', 117), ('afford', 118), ('afterwards', 119), ('again', 120), ('against', 121), ('aggression', 122), ('aid', 123), ('alarming', 124), ('alike', 125), ('all', 126), ('alleged', 127), ('alone', 128), ('also', 129), ('although', 130), ('amicable', 131), ('amity,', 132), ('among', 133), ('an', 134), ('and', 135), ('annual', 136), ('another', 137), ('any', 138), ('appear', 139), ('appeared', 140), ('appears', 141), ('appointed', 142), ('apprehended', 143), ('appropriations', 144), ('are', 145), ('arise', 146), ('arisen', 147), ('arisen,', 148), ('arising', 149), ('armament', 150), ('arming', 151), ('article', 152), ('as', 153), ('ascertain', 154), ('assemble', 155), ('asserting', 156), ('assessment', 157), ('assurances', 158), ('assure', 159), ('at', 160), ('attacks,', 161), ('attended', 162), ('attending', 163), ('attention', 164), ('augmenting', 165), ('authority', 166), ('averse', 167), ('bay', 168), ('be', 169), ('become', 170), ('been', 171), ('before', 172), ('being', 173), ('belong', 174), ('beneficial', 175), ('best', 176), ('between', 177), ('blessings', 178), ('bound', 179), ('boundaries', 180), ('boundary', 181), ('branch', 182), ('branches', 183), ('bring', 184), ('business', 185), ('business,', 186), ('but', 187), ('by', 188), ('calamity', 189), ('called', 190), ('can', 191), ('capture', 192), ('captures', 193), ('cargoes', 194), ('cases', 195), ('cause', 196), ('change', 197), ('channel', 198), ('channels', 199), ('circumstances', 200), ('cities', 201), ('citizens', 202), ('citizens,', 203), ('claimants,', 204), ('claims', 205), ('close', 206), ('coast', 207), ('cogent', 208), ('collection', 209), ('come', 210), ('comes', 211), ('commences', 212), ('commerce', 213), ('commerce,', 214), ('commissioner', 215), ('commissioner,', 216), ('commissioners', 217), ('commissioners;', 218), ('communicated', 219), ('communication', 220), ('compatible', 221), ('complained', 222), ('conciliate', 223), ('conclusion', 224), ('concurred', 225), ('condemnation', 226), ('condemnations', 227), ('conduct', 228), ('confirm', 229), ('confirmation', 230), ('confirmed,', 231), ('conform', 232), ('conformity', 233), ('congratulations', 234), ('consequence', 235), ('consequences', 236), ('consider', 237), ('consideration', 238), ('considering', 239), ('conspicuous', 240), ('contagious', 241), ('contemplate', 242), ('contention', 243), ('continuation', 244), ('continued', 245), ('continues', 246), ('continuing', 247), ('contrary,', 248), ('convenience', 249), ('countenance', 250), ('country', 251), ('country,', 252), ('course', 253), ('create', 254), ('cruisers', 255), ('cruising', 256), ('cultivated,', 257), ('dearest', 258), ('decided', 259), ('decision', 260), ('decision,', 261), ('declaration', 262), ('declare', 263), ('declared', 264), ('decree', 265), ('deem', 266), ('deeply', 267), ('defense', 268), ('degree', 269), ('delay', 270), ('delays', 271), ('deliberately', 272), ('demarcation', 273), ('demonstrating', 274), ('demonstrative', 275), ('depends', 276), ('depredations', 277), ('derived', 278), ('described,', 279), ('desire', 280), ('desirous', 281), ('desist', 282), ('destructive', 283), ('determinate', 284), ('determine', 285), ('determined', 286), ('development', 287), ('differences', 288), ('difficulty', 289), ('dignity,', 290), ('direct', 291), ('directed', 292), ('disappeared', 293), ('discharge', 294), ('discover', 295), ('discoverable', 296), ('disorder', 297), ('dispensations', 298), ('disposition', 299), ('do', 300), ('done', 301), ('doubtless', 302), ('during', 303), ('duties', 304), ('duty', 305), ('effect', 306), ('effecting', 307), ('effects', 308), ('efficient', 309), ('either', 310), ('embarrassments', 311), ('embassy;', 312), ('enable', 313), ('enacted', 314), ('encouraged', 315), ('energies', 316), ('enjoins', 317), ('enlarge', 318), ('enough', 319), ('ensuing', 320), ('enterprise,', 321), ('enterprises', 322), ('entire', 323), ('entitled', 324), ('equal', 325), ('ere', 326), ('essential', 327), ('established', 328), ('establishing', 329), ('establishment', 330), ('establishment,', 331), ('estimate', 332), ('evacuated', 333), ('even', 334), ('ever', 335), ('every', 336), ('evils', 337), ('examination', 338), ('examine', 339), ('examples', 340), ('except', 341), ('execution', 342), ('exhibited', 343), ('existence', 344), ('expected', 345), ('expediency', 346), ('expedient', 347), ('expedient,', 348), ('expenditures', 349), ('expense', 350), ('experienced', 351), ('expressed', 352), ('extend', 353), ('extensive', 354), ('extent', 355), ('extinguished,', 356), ('fabric', 357), ('facilitating', 358), ('failure', 359), ('falls', 360), ('far', 361), ('fatal', 362), ('fear', 363), ('fellow', 364), ('few', 365), ('finally', 366), ('finances,', 367), ('firm', 368), ('for', 369), ('force', 370), ('foreign', 371), ('foresight', 372), ('fork,', 373), ('formed', 374), ('former', 375), ('forming', 376), ('foundation', 377), ('frame', 378), ('friendly', 379), ('from', 380), ('fruitlessly', 381), ('fulfillment', 382), ('full', 383), ('fullest', 384), ('further', 385), ('future', 386), ('future,', 387), ('garrisons', 388), ('general', 389), ('gentlemen,', 390), ('give', 391), ('give,', 392), ('given,', 393), ('glory', 394), ('good', 395), ('governed', 396), ('grants', 397), ('gratitude', 398), ('great', 399), ('guard', 400), ('had', 401), ('harmony', 402), ('has', 403), ('have', 404), ('having', 405), ('he', 406), ('health', 407), ('health,', 408), ('her', 409), ('heretofore', 410), ('his', 411), ('hitherto', 412), ('honor', 413), ('honor,', 414), ('hostility,', 415), ('how', 416), ('however,', 417), ('humane', 418), ('humiliation', 419), ('idea', 420), ('if', 421), ('immediate', 422), ('importance', 423), ('important', 424), ('impress', 425), ('in', 426), ('inadmissible', 427), ('incalculable', 428), ('increase', 429), ('increased', 430), ('inculcating', 431), ('indeed', 432), ('independence', 433), ('indirectly', 434), ('indispensable', 435), ('individual', 436), ('infer', 437), ('inflicted', 438), ('information', 439), ('injuries', 440), ('instead', 441), ('instigated', 442), ('insure', 443), ('intended', 444), ('intercourse', 445), ('interest', 446), ('interests', 447), ('interests;', 448), ('interruption', 449), ('into', 450), ('invariably', 451), ('invigorate', 452), ('invigorated', 453), ('invite', 454), ('is', 455), ('islands', 456), ('islands,', 457), ('it', 458), ('it,', 459), ('its', 460), ('itself', 461), ('jealous', 462), ('joined', 463), ('justice', 464), ('justly', 465), ('justly,', 466), ('kind', 467), ('knowledge', 468), ('known', 469), ('laid', 470), ('land', 471), ('lands', 472), ('last', 473), ('last,', 474), ('late', 475), ('lately', 476), ('latitude', 477), ('latter', 478), ('law', 479), ('law,', 480), ('laws', 481), ('lay', 482), ('least', 483), ('leave', 484), ('left', 485), ('less', 486), ('liberal', 487), ('liberality', 488), ('liberty', 489), ('lie', 490), ('like', 491), ('line', 492), ('long,', 493), ('loss', 494), ('losses', 495), ('made', 496), ('magnitude', 497), ('maintain', 498), ('maintenance', 499), ('make', 500), ('making', 501), ('malady', 502), ('malignancy,', 503), ('manifestations', 504), ('manly', 505), ('manner', 506), ('many', 507), ('maritime', 508), ('matter', 509), ('matters', 510), ('maxims', 511), ('may', 512), ('mean', 513), ('means', 514), ('measure', 515), ('measures', 516), ('menaces', 517), ('mentioned', 518), ('mercantile', 519), ('military', 520), ('minister', 521), ('mischiefs', 522), ('moment,', 523), ('more', 524), ('most', 525), ('motives', 526), ('mouth', 527), ('must', 528), ('mutual', 529), ('my', 530), ('name', 531), ('nation', 532), ('national', 533), ('nations', 534), ('nations,', 535), ('naturally', 536), ('naval', 537), ('navigation', 538), ('near', 539), ('necessary', 540), ('necessary,', 541), ('necessity', 542), ('negotiate', 543), ('neutral', 544), ('neutrals,', 545), ('new', 546), ('no', 547), ('north', 548), ('northern', 549), ('northernmost', 550), ('northward,', 551), ('northwestern', 552), ('not', 553), ('not,', 554), ('nothing', 555), ('notwithstanding', 556), ('novelty', 557), ('now', 558), ('number', 559), ('object', 560), ('object,', 561), ('oblations', 562), ('observance', 563), ('observation', 564), ('observations', 565), ('observe', 566), ('obstacle', 567), ('obstacles', 568), ('obtaining', 569), ('occupied', 570), ('of', 571), ('officers', 572), ('omit', 573), ('on', 574), ('once', 575), ('one', 576), ('only', 577), ('operation,', 578), ('opinion', 579), ('oppose', 580), ('opposition', 581), ('option', 582), ('or', 583), ('ordinary', 584), ('organizing', 585), ('other', 586), ('ought', 587), ('our', 588), ('over', 589), ('pacific', 590), ('part', 591), ('participation', 592), ('patriotism', 593), ('peace', 594), ('peace,', 595), ('people', 596), ('perceive', 597), ('perhaps', 598), ('period', 599), ('permitted', 600), ('perseveringly', 601), ('pestilence', 602), ('pledge', 603), ('point', 604), ('policy', 605), ('political', 606), ('portentous', 607), ('portion', 608), ('ports,', 609), ('possess', 610), ('possess,', 611), ('posts', 612), ('power', 613), ('preclude', 614), ('preliminary', 615), ('preparation', 616), ('preparations', 617), ('prescribe', 618), ('present', 619), ('preserve', 620), ('pretension', 621), ('principal', 622), ('private', 623), ('prizes,', 624), ('probably', 625), ('proceed', 626), ('proceeded', 627), ('proceedings', 628), ('proceedings,', 629), ('procuring', 630), ('produce,', 631), ('professions', 632), ('progress', 633), ('promoted', 634), ('proofs', 635), ('proper', 636), ('property', 637), ('proportion', 638), ('proposition', 639), ('prosperity', 640), ('prosperous', 641), ('protect', 642), ('protection', 643), ('provided', 644), ('providence', 645), ('prudent', 646), ('public', 647), ('purpose', 648), ('pursuance', 649), ('pursued', 650), ('pursued,', 651), ('qualifications', 652), ('qualified', 653), ('quarter,', 654), ('question', 655), ('question,', 656), ('questioned', 657), ('raising', 658), ('ravages', 659), ('reason', 660), ('recall', 661), ('recalling', 662), ('receipts', 663), ('receive', 664), ('received', 665), ('recent', 666), ('recess', 667), ('reconcile', 668), ('reconciled', 669), ('reflect', 670), ('regardless', 671), ('regret', 672), ('regulate', 673), ('regulated', 674), ('regulations', 675), ('relation', 676), ('relative', 677), ('relax', 678), ('relief', 679), ('remains', 680), ('remarkable', 681), ('renders', 682), ('reparation', 683), ('repeal', 684), ('repeated', 685), ('requires', 686), ('requisite', 687), ('rescinded', 688), ('resignation', 689), ('resistance', 690), ('resources', 691), ('respect', 692), ('respective', 693), ('restoration', 694), ('restored', 695), ('restoring', 696), ('restrain', 697), ('result', 698), ('returns', 699), ('revenue', 700), ('reverence', 701), ('revision', 702), ('right', 703), ('rights', 704), ('rights,', 705), ('river', 706), ('room', 707), ('run', 708), ('rupture', 709), ('sacred', 710), ('safe', 711), ('safety', 712), ('safety;', 713), ('same', 714), ('satisfaction', 715), ('sea', 716), ('seat', 717), ('secure', 718), ('security', 719), ('see', 720), ('seems', 721), ('selection', 722), ('send', 723), ('sense', 724), ('service', 725), ('session', 726), ('session,', 727), ('settled', 728), ('several', 729), ('shall', 730), ('she', 731), ('should', 732), ('sickness', 733), ('sincere', 734), ('sincerity', 735), ('situation', 736), ('size', 737), ('small', 738), ('so', 739), ('solemnly', 740), ('solicitous', 741), ('solidity', 742), ('some', 743), ('source', 744), ('sources', 745), ('sovereignty;', 746), ('speedily', 747), ('spirit', 748), ('state', 749), ('steadily', 750), ('steps', 751), ('still', 752), ('stopped', 753), ('stores', 754), ('stream', 755), ('streams', 756), ('subject', 757), ('subjects', 758), ('submit', 759), ('subordinate', 760), ('such', 761), ('sudden', 762), ('sufferers,', 763), ('suffering', 764), ('sufficient', 765), ('suggested,', 766), ('suitable', 767), ('supplies', 768), ('supposed', 769), ('sure', 770), ('suspend', 771), ('sustained', 772), ('sympathize', 773), ('system', 774), ('systematic', 775), ('take', 776), ('taken', 777), ('tax', 778), ('temper', 779), ('tend', 780), ('terminated', 781), ('terms', 782), ('than', 783), ('that', 784), ('the', 785), ('their', 786), ('them', 787), ('themselves', 788), ('thence', 789), ('there', 790), ('therefore', 791), ('therefore,', 792), ('therein', 793), ('these', 794), ('they', 795), ('think', 796), ('this', 797), ('those', 798), ('through', 799), ('thus', 800), ('timber', 801), ('time', 802), ('times', 803), ('title', 804), ('to', 805), ('together', 806), ('toward', 807), ('towns', 808), ('trade', 809), ('trade,', 810), ('transactions', 811), ('transportation', 812), ('treaty', 813), ('tribes,', 814), ('troops', 815), ('true', 816), ('truly', 817), ('trust', 818), ('ultimate', 819), ('under', 820), ('understanding', 821), ('understood,', 822), ('undismayed', 823), ('unequivocal', 824), ('unexampled', 825), ('unfortunate', 826), ('uniformly', 827), ('uniting', 828), ('unless', 829), ('us', 830), ('usual', 831), ('usually', 832), ('valuable', 833), ('valuations', 834), ('vessels', 835), ('view', 836), ('views', 837), ('vigorous', 838), ('visited,', 839), ('war', 840), ('was', 841), ('we', 842), ('weight', 843), ('well', 844), ('were', 845), ('westward', 846), ('what', 847), ('when', 848), ('where', 849), ('whereby', 850), ('whether', 851), ('which', 852), ('which,', 853), ('while', 854), ('white', 855), ('who', 856), ('will', 857), ('willing', 858), ('wisdom', 859), ('wishes', 860), ('with', 861), ('within', 862), ('without', 863), ('work', 864), ('world', 865), ('worthy', 866), ('would', 867), ('year', 868), ('years', 869), ('you', 870), ('you,', 871), ('your', 872)])"
            ]
          },
          "execution_count": 5,
          "metadata": {},
          "output_type": "execute_result"
        }
      ],
      "source": [
        "vocab = { token:index for index, token in enumerate(tokens)}\n",
        "vocab.items()"
      ]
    },
    {
      "cell_type": "code",
      "execution_count": 6,
      "id": "5c3bde2c",
      "metadata": {
        "id": "5c3bde2c",
        "outputId": "7a52d7a4-71fb-445e-eaf7-b75ff50b0041"
      },
      "outputs": [
        {
          "name": "stdout",
          "output_type": "stream",
          "text": [
            "While with reverence and resignation we contemplate the dispensations of Divine Providence in the alarming and destructive pestilence\n"
          ]
        }
      ],
      "source": [
        "phrase = \"While with reverence and resignation we contemplate the dispensations of Divine Providence in the alarming and destructive pestilence\"\n",
        "print(phrase)"
      ]
    },
    {
      "cell_type": "code",
      "execution_count": 7,
      "id": "62e8e282",
      "metadata": {
        "id": "62e8e282",
        "outputId": "85f8b78d-b04c-48f1-d129-bc2487282925"
      },
      "outputs": [
        {
          "name": "stdout",
          "output_type": "stream",
          "text": [
            "['While', 'with', 'reverence', 'and', 'resignation', 'we', 'contemplate', 'the', 'dispensations', 'of', 'Divine', 'Providence', 'in', 'the', 'alarming', 'and', 'destructive', 'pestilence']\n"
          ]
        }
      ],
      "source": [
        "phrase = re.split( r'([.?!:())\"\\'“”‘’^]|\\s)', phrase)\n",
        "phrase = [ item for item in phrase if item.split() ]\n",
        "print(phrase)"
      ]
    },
    {
      "cell_type": "code",
      "execution_count": 8,
      "id": "00650e6f",
      "metadata": {
        "id": "00650e6f",
        "outputId": "64c34e6e-6e06-48d0-8084-29ad686aa6ed"
      },
      "outputs": [
        {
          "name": "stdout",
          "output_type": "stream",
          "text": [
            "[91, 861, 701, 135, 689, 842, 242, 785, 298, 571, 29, 64, 426, 785, 124, 135, 283, 602]\n"
          ]
        }
      ],
      "source": [
        "ids = [ vocab[token] for token in phrase]\n",
        "print(ids)"
      ]
    },
    {
      "cell_type": "code",
      "execution_count": 12,
      "id": "8d1f1912",
      "metadata": {
        "id": "8d1f1912",
        "outputId": "82054e30-98eb-4680-d516-200e06c35c0a"
      },
      "outputs": [
        {
          "name": "stdout",
          "output_type": "stream",
          "text": [
            "[91, 861, 701, 135, 689, 842, 242, 785, 298, 571, 29, 64, 426, 785, 124, 135, 283, 602]\n"
          ]
        }
      ],
      "source": [
        "print(ids)"
      ]
    },
    {
      "cell_type": "code",
      "execution_count": null,
      "id": "488a372f",
      "metadata": {
        "collapsed": true,
        "id": "488a372f",
        "outputId": "f784dfaa-871f-4e75-8600-f5b767fd6294"
      },
      "outputs": [
        {
          "data": {
            "text/plain": [
              "dict_items([(0, '('), (1, ')'), (2, '.'), (3, '1st'), (4, '25th'), (5, '31st'), (6, '5th'), (7, '7th'), (8, ':'), (9, '<|endoftext|>'), (10, '<|unk|>'), (11, 'A'), (12, 'After'), (13, 'American'), (14, 'Among'), (15, 'An'), (16, 'As'), (17, 'August'), (18, 'Bay'), (19, 'Being'), (20, 'Between'), (21, 'Britain'), (22, 'Britannic'), (23, 'British'), (24, 'But'), (25, 'Catholic'), (26, 'Congress,'), (27, 'Croix'), (28, 'Directory'), (29, 'Divine'), (30, 'During'), (31, 'Europe'), (32, 'Executive'), (33, 'France'), (34, 'French'), (35, 'From'), (36, 'Fundy'), (37, 'Gentlemen'), (38, 'Government'), (39, 'Government,'), (40, 'Governments'), (41, 'Great'), (42, 'He'), (43, 'Hills'), (44, 'His'), (45, 'Hitherto,'), (46, 'House'), (47, 'I'), (48, 'In'), (49, 'Indian'), (50, 'Indians,'), (51, 'It'), (52, 'January'), (53, 'Legislature'), (54, 'Majesty'), (55, 'Mississippi'), (56, 'Natchez'), (57, 'National'), (58, 'Navy'), (59, 'No'), (60, 'October'), (61, 'On'), (62, 'Passamaquoddy'), (63, 'Perhaps'), (64, 'Providence'), (65, 'Recent'), (66, 'Representatives'), (67, 'Scoodiac'), (68, 'Scoodiac,'), (69, 'Senate'), (70, 'Southern'), (71, 'Spain'), (72, 'Spanish'), (73, 'St'), (74, 'States'), (75, 'States,'), (76, 'States;'), (77, 'Such'), (78, 'Supreme'), (79, 'That'), (80, 'The'), (81, 'These'), (82, 'They'), (83, 'This'), (84, 'To'), (85, 'Union'), (86, 'United'), (87, 'Various'), (88, 'Walnut'), (89, 'We'), (90, 'When'), (91, 'While'), (92, 'You'), (93, 'a'), (94, 'abandon'), (95, 'able'), (96, 'abundant'), (97, 'accommodation'), (98, 'accompanied'), (99, 'accomplish'), (100, 'accomplished'), (101, 'accomplished,'), (102, 'acknowledged'), (103, 'act'), (104, 'acting'), (105, 'acts'), (106, 'actually'), (107, 'add'), (108, 'address'), (109, 'adheres'), (110, 'adjoining'), (111, 'adjusted'), (112, 'adjustment'), (113, 'adopted'), (114, 'advantages'), (115, 'advert,'), (116, 'adverting'), (117, 'affected,'), (118, 'afford'), (119, 'afterwards'), (120, 'again'), (121, 'against'), (122, 'aggression'), (123, 'aid'), (124, 'alarming'), (125, 'alike'), (126, 'all'), (127, 'alleged'), (128, 'alone'), (129, 'also'), (130, 'although'), (131, 'amicable'), (132, 'amity,'), (133, 'among'), (134, 'an'), (135, 'and'), (136, 'annual'), (137, 'another'), (138, 'any'), (139, 'appear'), (140, 'appeared'), (141, 'appears'), (142, 'appointed'), (143, 'apprehended'), (144, 'appropriations'), (145, 'are'), (146, 'arise'), (147, 'arisen'), (148, 'arisen,'), (149, 'arising'), (150, 'armament'), (151, 'arming'), (152, 'article'), (153, 'as'), (154, 'ascertain'), (155, 'assemble'), (156, 'asserting'), (157, 'assessment'), (158, 'assurances'), (159, 'assure'), (160, 'at'), (161, 'attacks,'), (162, 'attended'), (163, 'attending'), (164, 'attention'), (165, 'augmenting'), (166, 'authority'), (167, 'averse'), (168, 'bay'), (169, 'be'), (170, 'become'), (171, 'been'), (172, 'before'), (173, 'being'), (174, 'belong'), (175, 'beneficial'), (176, 'best'), (177, 'between'), (178, 'blessings'), (179, 'bound'), (180, 'boundaries'), (181, 'boundary'), (182, 'branch'), (183, 'branches'), (184, 'bring'), (185, 'business'), (186, 'business,'), (187, 'but'), (188, 'by'), (189, 'calamity'), (190, 'called'), (191, 'can'), (192, 'capture'), (193, 'captures'), (194, 'cargoes'), (195, 'cases'), (196, 'cause'), (197, 'change'), (198, 'channel'), (199, 'channels'), (200, 'circumstances'), (201, 'cities'), (202, 'citizens'), (203, 'citizens,'), (204, 'claimants,'), (205, 'claims'), (206, 'close'), (207, 'coast'), (208, 'cogent'), (209, 'collection'), (210, 'come'), (211, 'comes'), (212, 'commences'), (213, 'commerce'), (214, 'commerce,'), (215, 'commissioner'), (216, 'commissioner,'), (217, 'commissioners'), (218, 'commissioners;'), (219, 'communicated'), (220, 'communication'), (221, 'compatible'), (222, 'complained'), (223, 'conciliate'), (224, 'conclusion'), (225, 'concurred'), (226, 'condemnation'), (227, 'condemnations'), (228, 'conduct'), (229, 'confirm'), (230, 'confirmation'), (231, 'confirmed,'), (232, 'conform'), (233, 'conformity'), (234, 'congratulations'), (235, 'consequence'), (236, 'consequences'), (237, 'consider'), (238, 'consideration'), (239, 'considering'), (240, 'conspicuous'), (241, 'contagious'), (242, 'contemplate'), (243, 'contention'), (244, 'continuation'), (245, 'continued'), (246, 'continues'), (247, 'continuing'), (248, 'contrary,'), (249, 'convenience'), (250, 'countenance'), (251, 'country'), (252, 'country,'), (253, 'course'), (254, 'create'), (255, 'cruisers'), (256, 'cruising'), (257, 'cultivated,'), (258, 'dearest'), (259, 'decided'), (260, 'decision'), (261, 'decision,'), (262, 'declaration'), (263, 'declare'), (264, 'declared'), (265, 'decree'), (266, 'deem'), (267, 'deeply'), (268, 'defense'), (269, 'degree'), (270, 'delay'), (271, 'delays'), (272, 'deliberately'), (273, 'demarcation'), (274, 'demonstrating'), (275, 'demonstrative'), (276, 'depends'), (277, 'depredations'), (278, 'derived'), (279, 'described,'), (280, 'desire'), (281, 'desirous'), (282, 'desist'), (283, 'destructive'), (284, 'determinate'), (285, 'determine'), (286, 'determined'), (287, 'development'), (288, 'differences'), (289, 'difficulty'), (290, 'dignity,'), (291, 'direct'), (292, 'directed'), (293, 'disappeared'), (294, 'discharge'), (295, 'discover'), (296, 'discoverable'), (297, 'disorder'), (298, 'dispensations'), (299, 'disposition'), (300, 'do'), (301, 'done'), (302, 'doubtless'), (303, 'during'), (304, 'duties'), (305, 'duty'), (306, 'effect'), (307, 'effecting'), (308, 'effects'), (309, 'efficient'), (310, 'either'), (311, 'embarrassments'), (312, 'embassy;'), (313, 'enable'), (314, 'enacted'), (315, 'encouraged'), (316, 'energies'), (317, 'enjoins'), (318, 'enlarge'), (319, 'enough'), (320, 'ensuing'), (321, 'enterprise,'), (322, 'enterprises'), (323, 'entire'), (324, 'entitled'), (325, 'equal'), (326, 'ere'), (327, 'essential'), (328, 'established'), (329, 'establishing'), (330, 'establishment'), (331, 'establishment,'), (332, 'estimate'), (333, 'evacuated'), (334, 'even'), (335, 'ever'), (336, 'every'), (337, 'evils'), (338, 'examination'), (339, 'examine'), (340, 'examples'), (341, 'except'), (342, 'execution'), (343, 'exhibited'), (344, 'existence'), (345, 'expected'), (346, 'expediency'), (347, 'expedient'), (348, 'expedient,'), (349, 'expenditures'), (350, 'expense'), (351, 'experienced'), (352, 'expressed'), (353, 'extend'), (354, 'extensive'), (355, 'extent'), (356, 'extinguished,'), (357, 'fabric'), (358, 'facilitating'), (359, 'failure'), (360, 'falls'), (361, 'far'), (362, 'fatal'), (363, 'fear'), (364, 'fellow'), (365, 'few'), (366, 'finally'), (367, 'finances,'), (368, 'firm'), (369, 'for'), (370, 'force'), (371, 'foreign'), (372, 'foresight'), (373, 'fork,'), (374, 'formed'), (375, 'former'), (376, 'forming'), (377, 'foundation'), (378, 'frame'), (379, 'friendly'), (380, 'from'), (381, 'fruitlessly'), (382, 'fulfillment'), (383, 'full'), (384, 'fullest'), (385, 'further'), (386, 'future'), (387, 'future,'), (388, 'garrisons'), (389, 'general'), (390, 'gentlemen,'), (391, 'give'), (392, 'give,'), (393, 'given,'), (394, 'glory'), (395, 'good'), (396, 'governed'), (397, 'grants'), (398, 'gratitude'), (399, 'great'), (400, 'guard'), (401, 'had'), (402, 'harmony'), (403, 'has'), (404, 'have'), (405, 'having'), (406, 'he'), (407, 'health'), (408, 'health,'), (409, 'her'), (410, 'heretofore'), (411, 'his'), (412, 'hitherto'), (413, 'honor'), (414, 'honor,'), (415, 'hostility,'), (416, 'how'), (417, 'however,'), (418, 'humane'), (419, 'humiliation'), (420, 'idea'), (421, 'if'), (422, 'immediate'), (423, 'importance'), (424, 'important'), (425, 'impress'), (426, 'in'), (427, 'inadmissible'), (428, 'incalculable'), (429, 'increase'), (430, 'increased'), (431, 'inculcating'), (432, 'indeed'), (433, 'independence'), (434, 'indirectly'), (435, 'indispensable'), (436, 'individual'), (437, 'infer'), (438, 'inflicted'), (439, 'information'), (440, 'injuries'), (441, 'instead'), (442, 'instigated'), (443, 'insure'), (444, 'intended'), (445, 'intercourse'), (446, 'interest'), (447, 'interests'), (448, 'interests;'), (449, 'interruption'), (450, 'into'), (451, 'invariably'), (452, 'invigorate'), (453, 'invigorated'), (454, 'invite'), (455, 'is'), (456, 'islands'), (457, 'islands,'), (458, 'it'), (459, 'it,'), (460, 'its'), (461, 'itself'), (462, 'jealous'), (463, 'joined'), (464, 'justice'), (465, 'justly'), (466, 'justly,'), (467, 'kind'), (468, 'knowledge'), (469, 'known'), (470, 'laid'), (471, 'land'), (472, 'lands'), (473, 'last'), (474, 'last,'), (475, 'late'), (476, 'lately'), (477, 'latitude'), (478, 'latter'), (479, 'law'), (480, 'law,'), (481, 'laws'), (482, 'lay'), (483, 'least'), (484, 'leave'), (485, 'left'), (486, 'less'), (487, 'liberal'), (488, 'liberality'), (489, 'liberty'), (490, 'lie'), (491, 'like'), (492, 'line'), (493, 'long,'), (494, 'loss'), (495, 'losses'), (496, 'made'), (497, 'magnitude'), (498, 'maintain'), (499, 'maintenance'), (500, 'make'), (501, 'making'), (502, 'malady'), (503, 'malignancy,'), (504, 'manifestations'), (505, 'manly'), (506, 'manner'), (507, 'many'), (508, 'maritime'), (509, 'matter'), (510, 'matters'), (511, 'maxims'), (512, 'may'), (513, 'mean'), (514, 'means'), (515, 'measure'), (516, 'measures'), (517, 'menaces'), (518, 'mentioned'), (519, 'mercantile'), (520, 'military'), (521, 'minister'), (522, 'mischiefs'), (523, 'moment,'), (524, 'more'), (525, 'most'), (526, 'motives'), (527, 'mouth'), (528, 'must'), (529, 'mutual'), (530, 'my'), (531, 'name'), (532, 'nation'), (533, 'national'), (534, 'nations'), (535, 'nations,'), (536, 'naturally'), (537, 'naval'), (538, 'navigation'), (539, 'near'), (540, 'necessary'), (541, 'necessary,'), (542, 'necessity'), (543, 'negotiate'), (544, 'neutral'), (545, 'neutrals,'), (546, 'new'), (547, 'no'), (548, 'north'), (549, 'northern'), (550, 'northernmost'), (551, 'northward,'), (552, 'northwestern'), (553, 'not'), (554, 'not,'), (555, 'nothing'), (556, 'notwithstanding'), (557, 'novelty'), (558, 'now'), (559, 'number'), (560, 'object'), (561, 'object,'), (562, 'oblations'), (563, 'observance'), (564, 'observation'), (565, 'observations'), (566, 'observe'), (567, 'obstacle'), (568, 'obstacles'), (569, 'obtaining'), (570, 'occupied'), (571, 'of'), (572, 'officers'), (573, 'omit'), (574, 'on'), (575, 'once'), (576, 'one'), (577, 'only'), (578, 'operation,'), (579, 'opinion'), (580, 'oppose'), (581, 'opposition'), (582, 'option'), (583, 'or'), (584, 'ordinary'), (585, 'organizing'), (586, 'other'), (587, 'ought'), (588, 'our'), (589, 'over'), (590, 'pacific'), (591, 'part'), (592, 'participation'), (593, 'patriotism'), (594, 'peace'), (595, 'peace,'), (596, 'people'), (597, 'perceive'), (598, 'perhaps'), (599, 'period'), (600, 'permitted'), (601, 'perseveringly'), (602, 'pestilence'), (603, 'pledge'), (604, 'point'), (605, 'policy'), (606, 'political'), (607, 'portentous'), (608, 'portion'), (609, 'ports,'), (610, 'possess'), (611, 'possess,'), (612, 'posts'), (613, 'power'), (614, 'preclude'), (615, 'preliminary'), (616, 'preparation'), (617, 'preparations'), (618, 'prescribe'), (619, 'present'), (620, 'preserve'), (621, 'pretension'), (622, 'principal'), (623, 'private'), (624, 'prizes,'), (625, 'probably'), (626, 'proceed'), (627, 'proceeded'), (628, 'proceedings'), (629, 'proceedings,'), (630, 'procuring'), (631, 'produce,'), (632, 'professions'), (633, 'progress'), (634, 'promoted'), (635, 'proofs'), (636, 'proper'), (637, 'property'), (638, 'proportion'), (639, 'proposition'), (640, 'prosperity'), (641, 'prosperous'), (642, 'protect'), (643, 'protection'), (644, 'provided'), (645, 'providence'), (646, 'prudent'), (647, 'public'), (648, 'purpose'), (649, 'pursuance'), (650, 'pursued'), (651, 'pursued,'), (652, 'qualifications'), (653, 'qualified'), (654, 'quarter,'), (655, 'question'), (656, 'question,'), (657, 'questioned'), (658, 'raising'), (659, 'ravages'), (660, 'reason'), (661, 'recall'), (662, 'recalling'), (663, 'receipts'), (664, 'receive'), (665, 'received'), (666, 'recent'), (667, 'recess'), (668, 'reconcile'), (669, 'reconciled'), (670, 'reflect'), (671, 'regardless'), (672, 'regret'), (673, 'regulate'), (674, 'regulated'), (675, 'regulations'), (676, 'relation'), (677, 'relative'), (678, 'relax'), (679, 'relief'), (680, 'remains'), (681, 'remarkable'), (682, 'renders'), (683, 'reparation'), (684, 'repeal'), (685, 'repeated'), (686, 'requires'), (687, 'requisite'), (688, 'rescinded'), (689, 'resignation'), (690, 'resistance'), (691, 'resources'), (692, 'respect'), (693, 'respective'), (694, 'restoration'), (695, 'restored'), (696, 'restoring'), (697, 'restrain'), (698, 'result'), (699, 'returns'), (700, 'revenue'), (701, 'reverence'), (702, 'revision'), (703, 'right'), (704, 'rights'), (705, 'rights,'), (706, 'river'), (707, 'room'), (708, 'run'), (709, 'rupture'), (710, 'sacred'), (711, 'safe'), (712, 'safety'), (713, 'safety;'), (714, 'same'), (715, 'satisfaction'), (716, 'sea'), (717, 'seat'), (718, 'secure'), (719, 'security'), (720, 'see'), (721, 'seems'), (722, 'selection'), (723, 'send'), (724, 'sense'), (725, 'service'), (726, 'session'), (727, 'session,'), (728, 'settled'), (729, 'several'), (730, 'shall'), (731, 'she'), (732, 'should'), (733, 'sickness'), (734, 'sincere'), (735, 'sincerity'), (736, 'situation'), (737, 'size'), (738, 'small'), (739, 'so'), (740, 'solemnly'), (741, 'solicitous'), (742, 'solidity'), (743, 'some'), (744, 'source'), (745, 'sources'), (746, 'sovereignty;'), (747, 'speedily'), (748, 'spirit'), (749, 'state'), (750, 'steadily'), (751, 'steps'), (752, 'still'), (753, 'stopped'), (754, 'stores'), (755, 'stream'), (756, 'streams'), (757, 'subject'), (758, 'subjects'), (759, 'submit'), (760, 'subordinate'), (761, 'such'), (762, 'sudden'), (763, 'sufferers,'), (764, 'suffering'), (765, 'sufficient'), (766, 'suggested,'), (767, 'suitable'), (768, 'supplies'), (769, 'supposed'), (770, 'sure'), (771, 'suspend'), (772, 'sustained'), (773, 'sympathize'), (774, 'system'), (775, 'systematic'), (776, 'take'), (777, 'taken'), (778, 'tax'), (779, 'temper'), (780, 'tend'), (781, 'terminated'), (782, 'terms'), (783, 'than'), (784, 'that'), (785, 'the'), (786, 'their'), (787, 'them'), (788, 'themselves'), (789, 'thence'), (790, 'there'), (791, 'therefore'), (792, 'therefore,'), (793, 'therein'), (794, 'these'), (795, 'they'), (796, 'think'), (797, 'this'), (798, 'those'), (799, 'through'), (800, 'thus'), (801, 'timber'), (802, 'time'), (803, 'times'), (804, 'title'), (805, 'to'), (806, 'together'), (807, 'toward'), (808, 'towns'), (809, 'trade'), (810, 'trade,'), (811, 'transactions'), (812, 'transportation'), (813, 'treaty'), (814, 'tribes,'), (815, 'troops'), (816, 'true'), (817, 'truly'), (818, 'trust'), (819, 'ultimate'), (820, 'under'), (821, 'understanding'), (822, 'understood,'), (823, 'undismayed'), (824, 'unequivocal'), (825, 'unexampled'), (826, 'unfortunate'), (827, 'uniformly'), (828, 'uniting'), (829, 'unless'), (830, 'us'), (831, 'usual'), (832, 'usually'), (833, 'valuable'), (834, 'valuations'), (835, 'vessels'), (836, 'view'), (837, 'views'), (838, 'vigorous'), (839, 'visited,'), (840, 'war'), (841, 'was'), (842, 'we'), (843, 'weight'), (844, 'well'), (845, 'were'), (846, 'westward'), (847, 'what'), (848, 'when'), (849, 'where'), (850, 'whereby'), (851, 'whether'), (852, 'which'), (853, 'which,'), (854, 'while'), (855, 'white'), (856, 'who'), (857, 'will'), (858, 'willing'), (859, 'wisdom'), (860, 'wishes'), (861, 'with'), (862, 'within'), (863, 'without'), (864, 'work'), (865, 'world'), (866, 'worthy'), (867, 'would'), (868, 'year'), (869, 'years'), (870, 'you'), (871, 'you,'), (872, 'your')])"
            ]
          },
          "execution_count": 11,
          "metadata": {},
          "output_type": "execute_result"
        }
      ],
      "source": [
        "reverse_vocab = {index:token for token,index in vocab.items()}\n",
        "reverse_vocab.items()"
      ]
    },
    {
      "cell_type": "code",
      "execution_count": null,
      "id": "bb114e77",
      "metadata": {
        "id": "bb114e77",
        "outputId": "d352c36b-41d4-4325-ce92-22415f052f91"
      },
      "outputs": [
        {
          "name": "stdout",
          "output_type": "stream",
          "text": [
            "While with reverence and resignation we contemplate the dispensations of Divine Providence in the alarming and destructive pestilence\n"
          ]
        }
      ],
      "source": [
        "print( \" \".join([ reverse_vocab[id] for id in ids]))"
      ]
    },
    {
      "cell_type": "code",
      "execution_count": null,
      "id": "e06eba80",
      "metadata": {
        "id": "e06eba80"
      },
      "outputs": [],
      "source": [
        "class SimpleTokenizer:\n",
        "    def __init__(self, vocab):\n",
        "        self.str_to_int = vocab\n",
        "        self.int_to_str = {index:token for token, index in vocab.items()}\n",
        "\n",
        "    def encode(self, text):\n",
        "        tokens = re.split( r'([.?!:())\"\\'“”‘’^]|\\s)', text)\n",
        "        tokens = [ item if item in self.str_to_int else \"<|unk|>\" for item in tokens if item.split() ]\n",
        "        ids = [ self.str_to_int[token] for token in tokens]\n",
        "        return ids\n",
        "\n",
        "    def decode(self, ids):\n",
        "        text = \" \".join([self.int_to_str[id] for id in ids])\n",
        "        text = re.sub( r'\\s+([.?!:())\"\\'“”‘’^])', r'\\1', text )\n",
        "        return text\n"
      ]
    },
    {
      "cell_type": "code",
      "execution_count": null,
      "id": "dbaeb9d4",
      "metadata": {
        "id": "dbaeb9d4"
      },
      "outputs": [],
      "source": [
        "tokenizer = SimpleTokenizer(vocab)"
      ]
    },
    {
      "cell_type": "code",
      "execution_count": 19,
      "id": "dd3907d7",
      "metadata": {
        "id": "dd3907d7"
      },
      "outputs": [],
      "source": [
        "phrase = \" hello world my name is jeff\""
      ]
    },
    {
      "cell_type": "code",
      "execution_count": 20,
      "id": "8efa720f",
      "metadata": {
        "id": "8efa720f",
        "outputId": "396a3b53-36e5-4419-ddab-a00d37c0c505"
      },
      "outputs": [
        {
          "name": "stdout",
          "output_type": "stream",
          "text": [
            "[10, 865, 530, 531, 455, 10]\n"
          ]
        }
      ],
      "source": [
        "ids = tokenizer.encode( phrase )\n",
        "print(ids)"
      ]
    },
    {
      "cell_type": "code",
      "execution_count": 21,
      "id": "214bc6d8",
      "metadata": {
        "id": "214bc6d8",
        "outputId": "de6f06df-b96c-4c16-8a35-0389fae3e22d"
      },
      "outputs": [
        {
          "name": "stdout",
          "output_type": "stream",
          "text": [
            "<|unk|> world my name is <|unk|>\n"
          ]
        }
      ],
      "source": [
        "text = tokenizer.decode(ids)\n",
        "print(text)"
      ]
    },
    {
      "cell_type": "code",
      "execution_count": 22,
      "id": "cf5539a6",
      "metadata": {
        "id": "cf5539a6"
      },
      "outputs": [],
      "source": [
        "phrase = \"Murderer! And he had tried to help humanity. This was his reward.\""
      ]
    },
    {
      "cell_type": "code",
      "execution_count": 23,
      "id": "d4fe7a14",
      "metadata": {
        "id": "d4fe7a14",
        "outputId": "90a5e914-3a57-4aa1-83f6-eba46de5021f"
      },
      "outputs": [
        {
          "name": "stdout",
          "output_type": "stream",
          "text": [
            "[10, 10, 10, 406, 401, 10, 805, 10, 10, 2, 83, 841, 411, 10, 2]\n"
          ]
        }
      ],
      "source": [
        "ids = tokenizer.encode( phrase )\n",
        "print(ids)"
      ]
    },
    {
      "cell_type": "code",
      "execution_count": 24,
      "id": "9d3fb985",
      "metadata": {
        "id": "9d3fb985",
        "outputId": "c7a625a0-0de3-42f3-b153-5f867898636f"
      },
      "outputs": [
        {
          "name": "stdout",
          "output_type": "stream",
          "text": [
            "<|unk|> <|unk|> <|unk|> he had <|unk|> to <|unk|> <|unk|>. This was his <|unk|>.\n"
          ]
        }
      ],
      "source": [
        "text = tokenizer.decode(ids)\n",
        "print(text)"
      ]
    }
  ],
  "metadata": {
    "colab": {
      "provenance": [],
      "toc_visible": true
    },
    "kernelspec": {
      "display_name": "Python 3",
      "language": "python",
      "name": "python3"
    },
    "language_info": {
      "codemirror_mode": {
        "name": "ipython",
        "version": 3
      },
      "file_extension": ".py",
      "mimetype": "text/x-python",
      "name": "python",
      "nbconvert_exporter": "python",
      "pygments_lexer": "ipython3",
      "version": "3.11.9"
    }
  },
  "nbformat": 4,
  "nbformat_minor": 5
}
